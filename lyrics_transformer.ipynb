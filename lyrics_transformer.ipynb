{
 "cells": [
  {
   "cell_type": "code",
   "execution_count": 19,
   "metadata": {},
   "outputs": [],
   "source": [
    "from datasets import load_dataset, Dataset\n",
    "import evaluate"
   ]
  },
  {
   "cell_type": "code",
   "execution_count": 38,
   "metadata": {},
   "outputs": [],
   "source": [
    "from sklearn.model_selection import train_test_split\n",
    "import torch\n",
    "from tqdm import tqdm\n",
    "import os\n",
    "from sklearn.model_selection import KFold\n",
    "from sklearn.preprocessing import StandardScaler\n",
    "from sklearn.metrics import confusion_matrix, f1_score, precision_recall_fscore_support\n",
    "num_folds = 5"
   ]
  },
  {
   "cell_type": "code",
   "execution_count": 3,
   "metadata": {},
   "outputs": [],
   "source": [
    "from torch.utils.data import Dataset, DataLoader, WeightedRandomSampler\n",
    "import pandas as pd\n",
    "import numpy as np"
   ]
  },
  {
   "cell_type": "code",
   "execution_count": 4,
   "metadata": {},
   "outputs": [
    {
     "name": "stdout",
     "output_type": "stream",
     "text": [
      "cuda\n"
     ]
    }
   ],
   "source": [
    "device = torch.device(\"cuda\" if torch.cuda.is_available() else \"cpu\")\n",
    "print(device)"
   ]
  },
  {
   "cell_type": "code",
   "execution_count": 5,
   "metadata": {},
   "outputs": [
    {
     "name": "stderr",
     "output_type": "stream",
     "text": [
      "Found cached dataset json (C:/Users/hsu/.cache/huggingface/datasets/json/default-ccc42051288650a4/0.0.0/e347ab1c932092252e717ff3f949105a4dd28b27e842dd53157d2f72e276c2e4)\n",
      "100%|██████████| 1/1 [00:00<00:00, 82.15it/s]\n"
     ]
    },
    {
     "data": {
      "text/plain": [
       "DatasetDict({\n",
       "    train: Dataset({\n",
       "        features: ['valence', 'arousal', 'arousal_weight', 'lyrics', 'valence_weight'],\n",
       "        num_rows: 11088\n",
       "    })\n",
       "})"
      ]
     },
     "execution_count": 5,
     "metadata": {},
     "output_type": "execute_result"
    }
   ],
   "source": [
    "dataset = load_dataset('json', data_files='lyrics.json')\n",
    "dataset"
   ]
  },
  {
   "cell_type": "code",
   "execution_count": 7,
   "metadata": {},
   "outputs": [],
   "source": [
    "from transformers import T5Tokenizer, T5ForConditionalGeneration, T5Config"
   ]
  },
  {
   "cell_type": "code",
   "execution_count": 82,
   "metadata": {},
   "outputs": [],
   "source": [
    "#model_name = \"google/pegasus-cnn_dailymail\"\n",
    "#model_name = \"roberta-base\"\n",
    "#model_name = \"facebook/bart-large-cnn\"\n",
    "#model_name = 't5-base'\n",
    "#model_name = \"distilbert-base-uncased\""
   ]
  },
  {
   "cell_type": "code",
   "execution_count": 6,
   "metadata": {},
   "outputs": [],
   "source": [
    "from transformers import AutoTokenizer,BertForSequenceClassification, BertTokenizer, DistilBertModel, AutoModelForSequenceClassification\n",
    "#tokenizer = RobertaTokenizer.from_pretrained(model_name)\n",
    "tokenizer = AutoTokenizer.from_pretrained(\"textattack/bert-base-uncased-yelp-polarity\")"
   ]
  },
  {
   "cell_type": "code",
   "execution_count": 8,
   "metadata": {},
   "outputs": [],
   "source": [
    "def convert_dataset(dataset, label = 'arousal'):\n",
    "    input_encodings = tokenizer([str(x) for x in dataset[\"lyrics\"]],max_length=512, \n",
    "                                truncation=True)\n",
    "    #input_encodings = tokenizer([str(x) for x in dataset[\"lyrics\"]])\n",
    "    '''with tokenizer.as_target_tokenizer():\n",
    "        target_encodings = tokenizer(dataset[label],max_length=128,\n",
    "                                     truncation=True)\n",
    "'''\n",
    "    target_encodings = dataset[label]\n",
    "    return {\"input_ids\": input_encodings[\"input_ids\"],\n",
    "            \"attention_mask\": input_encodings[\"attention_mask\"],\n",
    "            \"labels\": target_encodings,\n",
    "            \"a_weight\":dataset['arpis']\n",
    "            \n",
    "            }"
   ]
  },
  {
   "cell_type": "markdown",
   "metadata": {},
   "source": [
    "Arousal"
   ]
  },
  {
   "cell_type": "code",
   "execution_count": 8,
   "metadata": {},
   "outputs": [
    {
     "name": "stderr",
     "output_type": "stream",
     "text": [
      "Loading cached processed dataset at C:\\Users\\hsu\\.cache\\huggingface\\datasets\\json\\default-ccc42051288650a4\\0.0.0\\e347ab1c932092252e717ff3f949105a4dd28b27e842dd53157d2f72e276c2e4\\cache-243a3d1327decf4a.arrow\n"
     ]
    }
   ],
   "source": [
    "dataset_pt = dataset.map(convert_dataset,\n",
    "                                       batched=True)\n",
    "\n",
    "columns = [\"input_ids\", \"labels\", \"attention_mask\",\"a_weight\"]\n",
    "dataset_pt.set_format(type=\"torch\", columns=columns)"
   ]
  },
  {
   "cell_type": "code",
   "execution_count": 9,
   "metadata": {},
   "outputs": [
    {
     "data": {
      "text/plain": [
       "DatasetDict({\n",
       "    train: Dataset({\n",
       "        features: ['valence', 'arousal', 'arousal_weight', 'lyrics', 'valence_weight', 'input_ids', 'attention_mask', 'labels', 'a_weight'],\n",
       "        num_rows: 8870\n",
       "    })\n",
       "    test: Dataset({\n",
       "        features: ['valence', 'arousal', 'arousal_weight', 'lyrics', 'valence_weight', 'input_ids', 'attention_mask', 'labels', 'a_weight'],\n",
       "        num_rows: 2218\n",
       "    })\n",
       "})"
      ]
     },
     "execution_count": 9,
     "metadata": {},
     "output_type": "execute_result"
    }
   ],
   "source": [
    "dataset_pt = dataset_pt['train'].train_test_split(test_size=0.2)\n",
    "dataset_pt"
   ]
  },
  {
   "cell_type": "code",
   "execution_count": 10,
   "metadata": {},
   "outputs": [],
   "source": [
    "sampler = WeightedRandomSampler(dataset_pt['train']['a_weight'], len(dataset_pt['train']['a_weight']))"
   ]
  },
  {
   "cell_type": "code",
   "execution_count": 17,
   "metadata": {},
   "outputs": [],
   "source": [
    "train_dataloader = DataLoader(dataset_pt['train'], batch_size=1, shuffle=False)\n",
    "val_dataloader = DataLoader(dataset_pt['test'], batch_size=1, shuffle=False)"
   ]
  },
  {
   "cell_type": "code",
   "execution_count": 18,
   "metadata": {},
   "outputs": [],
   "source": [
    "#model = RobertaModel.from_pretrained(model_name).to(device)\n",
    "#model = T5ForConditionalGeneration.from_pretrained(model_name).to(device)\n",
    "model = BertForSequenceClassification.from_pretrained(\"textattack/bert-base-uncased-yelp-polarity\").to(device)\n",
    "#model = AutoModelForSequenceClassification.from_pretrained(\"distilbert-base-uncased\", num_labels=2).to(device)"
   ]
  },
  {
   "cell_type": "code",
   "execution_count": null,
   "metadata": {},
   "outputs": [],
   "source": [
    "class Transformer(nn.Module):\n",
    "    def __init__(self):\n",
    "        super(ResNet, self).__init__()\n",
    "        self.transformer = AutoModelForSequenceClassification.from_pretrained(\"distilbert-base-uncased\", num_labels=16)\n",
    "        \n",
    "\n",
    "    def forward(self, x):\n",
    "        x = self.transformer(x)\n",
    "        \n",
    "        \n",
    "        return torch.abs(x)"
   ]
  },
  {
   "cell_type": "code",
   "execution_count": 19,
   "metadata": {},
   "outputs": [],
   "source": [
    "from accelerate import Accelerator\n",
    "\n",
    "accelerator = Accelerator()\n",
    "model  = accelerator.prepare(model)"
   ]
  },
  {
   "cell_type": "code",
   "execution_count": 22,
   "metadata": {},
   "outputs": [
    {
     "name": "stderr",
     "output_type": "stream",
     "text": [
      "  0%|          | 0/10 [00:00<?, ?it/s]"
     ]
    },
    {
     "name": "stdout",
     "output_type": "stream",
     "text": [
      "Epoch: 1, Loss: 0.5337 accuracy: 0.7501691093573845\n"
     ]
    },
    {
     "name": "stderr",
     "output_type": "stream",
     "text": [
      " 10%|█         | 1/10 [10:31<1:34:47, 631.93s/it]"
     ]
    },
    {
     "name": "stdout",
     "output_type": "stream",
     "text": [
      "Epoch: 2, Loss: 0.4814 accuracy: 0.7889515219842165\n"
     ]
    },
    {
     "name": "stderr",
     "output_type": "stream",
     "text": [
      " 20%|██        | 2/10 [21:09<1:24:42, 635.32s/it]"
     ]
    },
    {
     "name": "stdout",
     "output_type": "stream",
     "text": [
      "Epoch: 3, Loss: 0.3894 accuracy: 0.8502818489289741\n"
     ]
    },
    {
     "name": "stderr",
     "output_type": "stream",
     "text": [
      " 30%|███       | 3/10 [31:48<1:14:18, 637.00s/it]"
     ]
    },
    {
     "name": "stdout",
     "output_type": "stream",
     "text": [
      "Epoch: 4, Loss: 0.2792 accuracy: 0.9047350620067643\n"
     ]
    },
    {
     "name": "stderr",
     "output_type": "stream",
     "text": [
      " 40%|████      | 4/10 [42:21<1:03:33, 635.54s/it]"
     ]
    },
    {
     "name": "stdout",
     "output_type": "stream",
     "text": [
      "Epoch: 5, Loss: 0.1932 accuracy: 0.939120631341601\n"
     ]
    },
    {
     "name": "stderr",
     "output_type": "stream",
     "text": [
      " 50%|█████     | 5/10 [52:59<53:00, 636.19s/it]  "
     ]
    },
    {
     "name": "stdout",
     "output_type": "stream",
     "text": [
      "Epoch: 6, Loss: 0.1427 accuracy: 0.9570462232243517\n"
     ]
    },
    {
     "name": "stderr",
     "output_type": "stream",
     "text": [
      " 60%|██████    | 6/10 [1:03:39<42:29, 637.45s/it]"
     ]
    },
    {
     "name": "stdout",
     "output_type": "stream",
     "text": [
      "Epoch: 7, Loss: 0.1294 accuracy: 0.9595264937993235\n"
     ]
    },
    {
     "name": "stderr",
     "output_type": "stream",
     "text": [
      " 70%|███████   | 7/10 [1:14:19<31:54, 638.30s/it]"
     ]
    },
    {
     "name": "stdout",
     "output_type": "stream",
     "text": [
      "Epoch: 8, Loss: 0.1028 accuracy: 0.9691093573844419\n"
     ]
    },
    {
     "name": "stderr",
     "output_type": "stream",
     "text": [
      " 80%|████████  | 8/10 [1:24:55<21:15, 637.74s/it]"
     ]
    },
    {
     "name": "stdout",
     "output_type": "stream",
     "text": [
      "Epoch: 9, Loss: 0.0838 accuracy: 0.9738444193912064\n"
     ]
    },
    {
     "name": "stderr",
     "output_type": "stream",
     "text": [
      " 90%|█████████ | 9/10 [1:35:34<10:37, 637.99s/it]"
     ]
    },
    {
     "name": "stdout",
     "output_type": "stream",
     "text": [
      "Epoch: 10, Loss: 0.0754 accuracy: 0.9774520856820744\n"
     ]
    },
    {
     "name": "stderr",
     "output_type": "stream",
     "text": [
      "100%|██████████| 10/10 [1:46:11<00:00, 637.12s/it]\n"
     ]
    }
   ],
   "source": [
    "optimizer = torch.optim.AdamW(model.parameters(), lr=1e-5)\n",
    "\n",
    "num_epochs = 10  # Set the number of training epochs\n",
    "\n",
    "for epoch in tqdm(range(num_epochs)):\n",
    "    #model.train()\n",
    "    total_loss = 0\n",
    "    train_loss = 0\n",
    "    #gradient_update_count = 64\n",
    "    batch_id = 0\n",
    "    correct = 0\n",
    "    for batch in train_dataloader:\n",
    "        model.train()\n",
    "        #with torch.no_grad():\n",
    "        input_ids = batch['input_ids'].to(device)\n",
    "        attention_mask = batch['attention_mask'].to(device)\n",
    "        #decoder_input_ids = batch['decoder_input_ids'].to(device)\n",
    "        #decoder_attention_mask = batch['decoder_attention_mask'].to(device)\n",
    "        labels = batch['labels'].to(device)\n",
    "        \n",
    "        outputs = model(\n",
    "            input_ids=input_ids,\n",
    "            attention_mask=attention_mask,\n",
    "            labels=labels\n",
    "        )\n",
    "        loss = outputs.loss\n",
    "        optimizer.zero_grad()\n",
    "        loss.backward()\n",
    "        optimizer.step()\n",
    "        total_loss += loss.item()\n",
    "        train_loss += loss.item()\n",
    "        #print(outputs.logits)\n",
    "        _,predict_label = torch.max(outputs.logits,1)\n",
    "        correct += (predict_label==labels).sum()\n",
    "        \n",
    "        print('batch:', batch_id, 'loss:', loss.item(), end='\\r')\n",
    "        batch_id += 1\n",
    "        '''if batch_id % gradient_update_count == 1:\n",
    "            model.train()\n",
    "            optimizer.zero_grad()\n",
    "            print(train_loss / gradient_update_count)\n",
    "            train_loss = torch.tensor(train_loss / gradient_update_count)\n",
    "            train_loss = Variable(train_loss, requires_grad=True)\n",
    "            train_loss.backward28\n",
    "            optimizer.step()\n",
    "            train_loss = 0\n",
    "    '''\n",
    "    average_loss = total_loss / len(train_dataloader)\n",
    "    print(f\"Epoch: {epoch + 1}, Loss: {average_loss:.4f}\", 'accuracy:', correct.item()/len(train_dataloader))\n",
    "    #model.eval()\n",
    "\n",
    "    '''batch_id = 0\n",
    "    with torch.no_grad():\n",
    "        for batch in val_dataloader:\n",
    "            print('batch:', batch_id, end = '\\r')\n",
    "            rouge, bertscore = compute_metrics(batch, model)\n",
    "            print(rouge[0], rouge[1], rouge[2], bertscore)\n",
    "            batch_id += 1'''\n",
    "    if not os.path.isdir('save_weights'):\n",
    "            os.mkdir('save_weights')\n",
    "    model.save_pretrained('save_weights/model'+str(epoch+1))\n",
    "    tokenizer.save_pretrained('save_weights/tokenizer'+str(epoch+1))"
   ]
  },
  {
   "cell_type": "code",
   "execution_count": 33,
   "metadata": {},
   "outputs": [
    {
     "name": "stderr",
     "output_type": "stream",
     "text": [
      "100%|██████████| 2218/2218 [00:35<00:00, 63.10it/s]"
     ]
    },
    {
     "name": "stdout",
     "output_type": "stream",
     "text": [
      "accuracy: 0.7628494138863842\n",
      "f1 score: 0.6265376494434564\n",
      "confusion matrix:\n",
      " [[ 176  142]\n",
      " [ 384 1516]]\n"
     ]
    },
    {
     "name": "stderr",
     "output_type": "stream",
     "text": [
      "\n"
     ]
    }
   ],
   "source": [
    "model = BertForSequenceClassification.from_pretrained(\"save_weights/model4\").to(device)\n",
    "model.eval()\n",
    "prediction = []\n",
    "ans = []\n",
    "#batch_id = 0\n",
    "correct = 0\n",
    "with torch.no_grad(): \n",
    "    for batch in tqdm(val_dataloader):\n",
    "        input_ids =  batch['input_ids'].to(device)\n",
    "        attention_mask =  batch['attention_mask'].to(device)\n",
    "        output = model(\n",
    "            input_ids=input_ids,\n",
    "            attention_mask=attention_mask,\n",
    "        )\n",
    "        #outputs = model(**data)\n",
    "        _,predict_label = torch.max(output.logits,1)\n",
    "        correct += (predict_label==batch['labels'].to(device)).sum()\n",
    "        #summary_text = tokenizer.decode(summary_ids[0], skip_special_tokens=True)\n",
    "        #print(summary_text)\n",
    "        prediction.append(predict_label.cpu().item())\n",
    "        ans.append(batch['labels'].cpu().item())\n",
    "        #batch_id += 1\n",
    "        #print('batch:', batch_id)\n",
    "print('accuracy:',correct.item() / len(val_dataloader))\n",
    "print('f1 score:', f1_score(ans, prediction, average='macro'))\n",
    "print('confusion matrix:\\n', confusion_matrix(prediction,ans)) #[[tp,fp],[fn,tn]]"
   ]
  },
  {
   "cell_type": "markdown",
   "metadata": {},
   "source": [
    "Valence"
   ]
  },
  {
   "cell_type": "code",
   "execution_count": 9,
   "metadata": {},
   "outputs": [],
   "source": [
    "def convert_dataset(dataset, label = 'valence'):\n",
    "    input_encodings = tokenizer([str(x) for x in dataset[\"lyrics\"]],max_length=512, \n",
    "                                truncation=True)\n",
    "    #input_encodings = tokenizer([str(x) for x in dataset[\"lyrics\"]])\n",
    "    '''with tokenizer.as_target_tokenizer():\n",
    "        target_encodings = tokenizer(dataset[label],max_length=128,\n",
    "                                     truncation=True)\n",
    "'''\n",
    "    target_encodings = dataset[label]\n",
    "    return {\"input_ids\": input_encodings[\"input_ids\"],\n",
    "            \"attention_mask\": input_encodings[\"attention_mask\"],\n",
    "            \"labels\": target_encodings,\n",
    "            \"v_weight\":dataset['valence_weight']\n",
    "            \n",
    "            }"
   ]
  },
  {
   "cell_type": "code",
   "execution_count": 10,
   "metadata": {},
   "outputs": [
    {
     "name": "stderr",
     "output_type": "stream",
     "text": [
      "Map:   0%|          | 0/11088 [00:00<?, ? examples/s]"
     ]
    },
    {
     "name": "stderr",
     "output_type": "stream",
     "text": [
      "                                                                   \r"
     ]
    }
   ],
   "source": [
    "dataset_pt = dataset.map(convert_dataset,\n",
    "                                       batched=True)\n",
    "\n",
    "columns = [\"input_ids\", \"labels\", \"attention_mask\",\"v_weight\"]\n",
    "dataset_pt.set_format(type=\"torch\", columns=columns)"
   ]
  },
  {
   "cell_type": "code",
   "execution_count": 11,
   "metadata": {},
   "outputs": [],
   "source": [
    "from sklearn.model_selection import KFold"
   ]
  },
  {
   "cell_type": "code",
   "execution_count": 12,
   "metadata": {},
   "outputs": [],
   "source": [
    "num_folds = 5\n",
    "kfold = KFold(n_splits=num_folds, shuffle=True, random_state=3001)"
   ]
  },
  {
   "cell_type": "code",
   "execution_count": 13,
   "metadata": {},
   "outputs": [
    {
     "data": {
      "text/plain": [
       "DatasetDict({\n",
       "    train: Dataset({\n",
       "        features: ['valence', 'arousal', 'arousal_weight', 'lyrics', 'valence_weight', 'input_ids', 'attention_mask', 'labels', 'v_weight'],\n",
       "        num_rows: 11088\n",
       "    })\n",
       "})"
      ]
     },
     "execution_count": 13,
     "metadata": {},
     "output_type": "execute_result"
    }
   ],
   "source": [
    "dataset_pt"
   ]
  },
  {
   "cell_type": "code",
   "execution_count": 170,
   "metadata": {},
   "outputs": [
    {
     "data": {
      "text/plain": [
       "DatasetDict({\n",
       "    train: Dataset({\n",
       "        features: ['valence', 'arousal', 'arousal_weight', 'lyrics', 'valence_weight', 'input_ids', 'attention_mask', 'labels', 'v_weight'],\n",
       "        num_rows: 8870\n",
       "    })\n",
       "    test: Dataset({\n",
       "        features: ['valence', 'arousal', 'arousal_weight', 'lyrics', 'valence_weight', 'input_ids', 'attention_mask', 'labels', 'v_weight'],\n",
       "        num_rows: 2218\n",
       "    })\n",
       "})"
      ]
     },
     "execution_count": 170,
     "metadata": {},
     "output_type": "execute_result"
    }
   ],
   "source": [
    "dataset_pt = dataset_pt['train'].train_test_split(test_size=0.2)\n",
    "dataset_pt"
   ]
  },
  {
   "cell_type": "code",
   "execution_count": 171,
   "metadata": {},
   "outputs": [],
   "source": [
    "sampler = WeightedRandomSampler(dataset_pt['train']['v_weight'], len(dataset_pt['train']['v_weight']))"
   ]
  },
  {
   "cell_type": "code",
   "execution_count": 172,
   "metadata": {},
   "outputs": [],
   "source": [
    "train_dataloader = DataLoader(dataset_pt['train'], batch_size=1, shuffle=False, sampler=sampler)\n",
    "val_dataloader = DataLoader(dataset_pt['test'], batch_size=1, shuffle=False)"
   ]
  },
  {
   "cell_type": "code",
   "execution_count": 153,
   "metadata": {},
   "outputs": [],
   "source": [
    "#model = RobertaModel.from_pretrained(model_name).to(device)\n",
    "#model = T5ForConditionalGeneration.from_pretrained(model_name).to(device)\n",
    "model = BertForSequenceClassification.from_pretrained(\"textattack/bert-base-uncased-yelp-polarity\").to(device)\n",
    "#model = AutoModelForSequenceClassification.from_pretrained(\"distilbert-base-uncased\", num_labels=2).to(device)"
   ]
  },
  {
   "cell_type": "code",
   "execution_count": 22,
   "metadata": {},
   "outputs": [
    {
     "ename": "NameError",
     "evalue": "name 'model' is not defined",
     "output_type": "error",
     "traceback": [
      "\u001b[1;31m---------------------------------------------------------------------------\u001b[0m",
      "\u001b[1;31mNameError\u001b[0m                                 Traceback (most recent call last)",
      "Cell \u001b[1;32mIn[22], line 4\u001b[0m\n\u001b[0;32m      1\u001b[0m \u001b[39mfrom\u001b[39;00m \u001b[39maccelerate\u001b[39;00m \u001b[39mimport\u001b[39;00m Accelerator\n\u001b[0;32m      3\u001b[0m accelerator \u001b[39m=\u001b[39m Accelerator()\n\u001b[1;32m----> 4\u001b[0m model  \u001b[39m=\u001b[39m accelerator\u001b[39m.\u001b[39mprepare(model)\n",
      "\u001b[1;31mNameError\u001b[0m: name 'model' is not defined"
     ]
    }
   ],
   "source": []
  },
  {
   "cell_type": "code",
   "execution_count": 23,
   "metadata": {},
   "outputs": [],
   "source": [
    "from accelerate import Accelerator\n"
   ]
  },
  {
   "cell_type": "code",
   "execution_count": null,
   "metadata": {},
   "outputs": [],
   "source": [
    "\n",
    "accelerator = Accelerator()\n",
    "model  = accelerator.prepare(model)"
   ]
  },
  {
   "cell_type": "code",
   "execution_count": null,
   "metadata": {},
   "outputs": [
    {
     "name": "stderr",
     "output_type": "stream",
     "text": [
      "  0%|          | 0/10 [00:00<?, ?it/s]"
     ]
    },
    {
     "name": "stdout",
     "output_type": "stream",
     "text": [
      "batch: 59 loss: 2.8008260726928711185\r"
     ]
    },
    {
     "name": "stderr",
     "output_type": "stream",
     "text": [
      "  0%|          | 0/10 [00:04<?, ?it/s]"
     ]
    },
    {
     "name": "stdout",
     "output_type": "stream",
     "text": [
      "batch: 60 loss: 0.3813933730125427\r"
     ]
    },
    {
     "name": "stderr",
     "output_type": "stream",
     "text": [
      "\n"
     ]
    },
    {
     "ename": "KeyboardInterrupt",
     "evalue": "",
     "output_type": "error",
     "traceback": [
      "\u001b[1;31m---------------------------------------------------------------------------\u001b[0m",
      "\u001b[1;31mKeyboardInterrupt\u001b[0m                         Traceback (most recent call last)",
      "Cell \u001b[1;32mIn[156], line 28\u001b[0m\n\u001b[0;32m     26\u001b[0m loss \u001b[39m=\u001b[39m outputs\u001b[39m.\u001b[39mloss\n\u001b[0;32m     27\u001b[0m optimizer\u001b[39m.\u001b[39mzero_grad()\n\u001b[1;32m---> 28\u001b[0m loss\u001b[39m.\u001b[39;49mbackward()\n\u001b[0;32m     29\u001b[0m optimizer\u001b[39m.\u001b[39mstep()\n\u001b[0;32m     30\u001b[0m total_loss \u001b[39m+\u001b[39m\u001b[39m=\u001b[39m loss\u001b[39m.\u001b[39mitem()\n",
      "File \u001b[1;32mc:\\Users\\hsu\\anaconda3\\envs\\meta\\lib\\site-packages\\torch\\_tensor.py:487\u001b[0m, in \u001b[0;36mTensor.backward\u001b[1;34m(self, gradient, retain_graph, create_graph, inputs)\u001b[0m\n\u001b[0;32m    477\u001b[0m \u001b[39mif\u001b[39;00m has_torch_function_unary(\u001b[39mself\u001b[39m):\n\u001b[0;32m    478\u001b[0m     \u001b[39mreturn\u001b[39;00m handle_torch_function(\n\u001b[0;32m    479\u001b[0m         Tensor\u001b[39m.\u001b[39mbackward,\n\u001b[0;32m    480\u001b[0m         (\u001b[39mself\u001b[39m,),\n\u001b[1;32m   (...)\u001b[0m\n\u001b[0;32m    485\u001b[0m         inputs\u001b[39m=\u001b[39minputs,\n\u001b[0;32m    486\u001b[0m     )\n\u001b[1;32m--> 487\u001b[0m torch\u001b[39m.\u001b[39;49mautograd\u001b[39m.\u001b[39;49mbackward(\n\u001b[0;32m    488\u001b[0m     \u001b[39mself\u001b[39;49m, gradient, retain_graph, create_graph, inputs\u001b[39m=\u001b[39;49minputs\n\u001b[0;32m    489\u001b[0m )\n",
      "File \u001b[1;32mc:\\Users\\hsu\\anaconda3\\envs\\meta\\lib\\site-packages\\torch\\autograd\\__init__.py:200\u001b[0m, in \u001b[0;36mbackward\u001b[1;34m(tensors, grad_tensors, retain_graph, create_graph, grad_variables, inputs)\u001b[0m\n\u001b[0;32m    195\u001b[0m     retain_graph \u001b[39m=\u001b[39m create_graph\n\u001b[0;32m    197\u001b[0m \u001b[39m# The reason we repeat same the comment below is that\u001b[39;00m\n\u001b[0;32m    198\u001b[0m \u001b[39m# some Python versions print out the first line of a multi-line function\u001b[39;00m\n\u001b[0;32m    199\u001b[0m \u001b[39m# calls in the traceback and some print out the last line\u001b[39;00m\n\u001b[1;32m--> 200\u001b[0m Variable\u001b[39m.\u001b[39;49m_execution_engine\u001b[39m.\u001b[39;49mrun_backward(  \u001b[39m# Calls into the C++ engine to run the backward pass\u001b[39;49;00m\n\u001b[0;32m    201\u001b[0m     tensors, grad_tensors_, retain_graph, create_graph, inputs,\n\u001b[0;32m    202\u001b[0m     allow_unreachable\u001b[39m=\u001b[39;49m\u001b[39mTrue\u001b[39;49;00m, accumulate_grad\u001b[39m=\u001b[39;49m\u001b[39mTrue\u001b[39;49;00m)\n",
      "\u001b[1;31mKeyboardInterrupt\u001b[0m: "
     ]
    }
   ],
   "source": [
    "optimizer = torch.optim.AdamW(model.parameters(), lr=1e-5)\n",
    "\n",
    "num_epochs = 10  # Set the number of training epochs\n",
    "\n",
    "for epoch in tqdm(range(num_epochs)):\n",
    "    #model.train()\n",
    "    total_loss = 0\n",
    "    train_loss = 0\n",
    "    #gradient_update_count = 64\n",
    "    batch_id = 0\n",
    "    correct = 0\n",
    "    for batch in train_dataloader:\n",
    "        model.train()\n",
    "        #with torch.no_grad():\n",
    "        input_ids = batch['input_ids'].to(device)\n",
    "        attention_mask = batch['attention_mask'].to(device)\n",
    "        #decoder_input_ids = batch['decoder_input_ids'].to(device)\n",
    "        #decoder_attention_mask = batch['decoder_attention_mask'].to(device)\n",
    "        labels = batch['labels'].to(device)\n",
    "        \n",
    "        outputs = model(\n",
    "            input_ids=input_ids,\n",
    "            attention_mask=attention_mask,\n",
    "            labels=labels\n",
    "        )\n",
    "        loss = outputs.loss\n",
    "        optimizer.zero_grad()\n",
    "        loss.backward()\n",
    "        optimizer.step()\n",
    "        total_loss += loss.item()\n",
    "        train_loss += loss.item()\n",
    "        #print(outputs.logits)\n",
    "        _,predict_label = torch.max(outputs.logits,1)\n",
    "        correct += (predict_label==labels).sum()\n",
    "        \n",
    "        print('batch:', batch_id, 'loss:', loss.item(), end='\\r')\n",
    "        batch_id += 1\n",
    "        '''if batch_id % gradient_update_count == 1:\n",
    "            model.train()\n",
    "            optimizer.zero_grad()\n",
    "            print(train_loss / gradient_update_count)\n",
    "            train_loss = torch.tensor(train_loss / gradient_update_count)\n",
    "            train_loss = Variable(train_loss, requires_grad=True)\n",
    "            train_loss.backward28\n",
    "            optimizer.step()\n",
    "            train_loss = 0\n",
    "    '''\n",
    "    average_loss = total_loss / len(train_dataloader)\n",
    "    print(f\"Epoch: {epoch + 1}, Loss: {average_loss:.4f}\", 'accuracy:', correct.item()/len(train_dataloader))\n",
    "    #model.eval()\n",
    "\n",
    "    '''batch_id = 0\n",
    "    with torch.no_grad():\n",
    "        for batch in val_dataloader:\n",
    "            print('batch:', batch_id, end = '\\r')\n",
    "            rouge, bertscore = compute_metrics(batch, model)\n",
    "            print(rouge[0], rouge[1], rouge[2], bertscore)\n",
    "            batch_id += 1'''\n",
    "    if not os.path.isdir('save_weights'):\n",
    "            os.mkdir('save_weights')\n",
    "    model.save_pretrained('save_weights/model'+str(epoch+1))\n",
    "    tokenizer.save_pretrained('save_weights/tokenizer'+str(epoch+1))"
   ]
  },
  {
   "cell_type": "code",
   "execution_count": null,
   "metadata": {},
   "outputs": [
    {
     "data": {
      "text/plain": [
       "DatasetDict({\n",
       "    train: Dataset({\n",
       "        features: ['input_ids', 'attention_mask', 'labels', 'v_weight'],\n",
       "        num_rows: 5108\n",
       "    })\n",
       "    test: Dataset({\n",
       "        features: ['input_ids', 'attention_mask', 'labels', 'v_weight'],\n",
       "        num_rows: 568\n",
       "    })\n",
       "})"
      ]
     },
     "execution_count": 164,
     "metadata": {},
     "output_type": "execute_result"
    }
   ],
   "source": [
    "train_set"
   ]
  },
  {
   "cell_type": "code",
   "execution_count": 74,
   "metadata": {},
   "outputs": [],
   "source": [
    "def training(train_dataloader, val_dataloader,fold, num_epochs = 10, validation = True, val_monitor = 'loss'):\n",
    "    model = BertForSequenceClassification.from_pretrained(\"textattack/bert-base-uncased-yelp-polarity\").to(device)\n",
    "    accelerator = Accelerator()\n",
    "    model  = accelerator.prepare(model)\n",
    "    optimizer = torch.optim.AdamW(model.parameters(), lr=1e-5)\n",
    "\n",
    "    #num_epochs = 10  # Set the number of training epochs\n",
    "\n",
    "    best_val_loss = np.inf\n",
    "    best_val_accuracy = 0\n",
    "    for epoch in tqdm(range(num_epochs)):\n",
    "        #model.train()\n",
    "        total_loss = 0\n",
    "        train_loss = 0\n",
    "        \n",
    "        batch_id = 0\n",
    "        correct = 0\n",
    "        print(f\"Epoch: {epoch + 1}\",'training')\n",
    "        for batch in train_dataloader:\n",
    "            \n",
    "            model.train()\n",
    "            #with torch.no_grad():\n",
    "            input_ids = torch.tensor([batch['input_ids']]).to(device)\n",
    "            attention_mask = torch.tensor([batch['attention_mask']]).to(device)\n",
    "            \n",
    "            labels = batch['labels'].clone().detach().to(device)\n",
    "            #print(labels)\n",
    "            outputs = model(\n",
    "                input_ids=input_ids,\n",
    "                attention_mask=attention_mask,\n",
    "                labels=labels\n",
    "            )\n",
    "            loss = outputs.loss\n",
    "            optimizer.zero_grad()\n",
    "            loss.backward()\n",
    "            optimizer.step()\n",
    "            total_loss += loss.item()\n",
    "            train_loss += loss.item()\n",
    "            #print(outputs.logits)\n",
    "            _,predict_label = torch.max(outputs.logits,1)\n",
    "            correct += (predict_label==labels).sum()\n",
    "            \n",
    "            print('batch:', batch_id, 'loss:', loss.item(), end='\\r')\n",
    "            batch_id += 1\n",
    "            \n",
    "        average_loss = total_loss / len(train_dataloader)\n",
    "        print(f\"Loss: {average_loss:.4f}\", 'accuracy:', correct.item()/len(train_dataloader))\n",
    "        #model.eval()\n",
    "        if validation:\n",
    "            print('validation')\n",
    "            model.eval()\n",
    "            prediction = []\n",
    "            ans = []\n",
    "            val_loss = 0.0\n",
    "            batch_id = 0\n",
    "            correct = 0\n",
    "            loss_function = torch.nn.CrossEntropyLoss()\n",
    "            with torch.no_grad(): \n",
    "                for batch in val_dataloader:\n",
    "                    input_ids =  torch.tensor([batch['input_ids']]).to(device)\n",
    "                    attention_mask =  torch.tensor([batch['attention_mask']]).to(device)\n",
    "                    labels = batch['labels'].clone().detach().to(device)\n",
    "                    output = model(\n",
    "                        input_ids=input_ids,\n",
    "                        attention_mask=attention_mask,\n",
    "                    )\n",
    "                    #outputs = model(**data)\n",
    "                    #loss = output.loss\n",
    "                    loss = loss_function(output.logits, labels.to(device))\n",
    "                    #if loss is None:\n",
    "                    #    val_loss = np.inf\n",
    "                    #else:\n",
    "                    val_loss += loss.item()\n",
    "                    _,predict_label = torch.max(output.logits,1)\n",
    "                    correct += (predict_label==labels).sum()\n",
    "                    \n",
    "                    prediction.append(predict_label.cpu().item())\n",
    "                    ans.append(labels.cpu().item())\n",
    "                    print('batch:', batch_id, 'loss:', loss.item(), end='\\r')\n",
    "                    batch_id += 1\n",
    "            val_loss /= len(val_dataloader)\n",
    "            val_accuracy = correct.item() / len(val_dataloader)\n",
    "            print('loss:', val_loss)\n",
    "            print('accuracy:',val_accuracy)\n",
    "            print('f1 score:', f1_score(ans, prediction, average='macro'))\n",
    "            if val_monitor == 'loss':\n",
    "                if val_loss <= best_val_loss:\n",
    "                    best_val_loss = val_loss\n",
    "                    if not os.path.isdir('save_weights'):\n",
    "                        os.mkdir('save_weights')\n",
    "                    if not os.path.isdir('save_weights/fold_{}'.format(fold)):\n",
    "                        os.mkdir('save_weights/fold_{}'.format(fold))\n",
    "                    model.save_pretrained('save_weights/fold_{}/model_best'.format(fold))\n",
    "                    tokenizer.save_pretrained('save_weights/fold_{}/tokenizer_best'.format(fold))\n",
    "            else:\n",
    "                if val_accuracy >= best_val_accuracy:\n",
    "                    best_val_accuracy = val_accuracy\n",
    "                    if not os.path.isdir('save_weights'):\n",
    "                        os.mkdir('save_weights')\n",
    "                    if not os.path.isdir('save_weights/fold_{}'.format(fold)):\n",
    "                        os.mkdir('save_weights/fold_{}'.format(fold))\n",
    "                    model.save_pretrained('save_weights/fold_{}/model_best'.format(fold))\n",
    "                    tokenizer.save_pretrained('save_weights/fold_{}/tokenizer_best'.format(fold))\n",
    "        else:\n",
    "            if not os.path.isdir('save_weights'):\n",
    "                    os.mkdir('save_weights')\n",
    "            if not os.path.isdir('save_weights/fold_{}'.format(fold)):\n",
    "                os.mkdir('save_weights/fold_{}'.format(fold))\n",
    "            model.save_pretrained('save_weights/fold_{}/model'.format(fold) + str(epoch+1))\n",
    "            tokenizer.save_pretrained('save_weights/fold_{}/tokenizer'.format(fold) + str(epoch+1))\n",
    "    if not os.path.isdir('save_weights'):\n",
    "        os.mkdir('save_weights')\n",
    "    if not os.path.isdir('save_weights/fold_{}'.format(fold)):\n",
    "        os.mkdir('save_weights/fold_{}'.format(fold))\n",
    "    model.save_pretrained('save_weights/fold_{}/model_final'.format(fold))\n",
    "    tokenizer.save_pretrained('save_weights/fold_{}/tokenizer_final'.format(fold))"
   ]
  },
  {
   "cell_type": "code",
   "execution_count": 72,
   "metadata": {},
   "outputs": [],
   "source": [
    "def testing(test_loader,fold, load_best = True):\n",
    "    print('testing')\n",
    "    if load_best:\n",
    "        model = BertForSequenceClassification.from_pretrained(\"save_weights/fold_{}/model_best\".format(fold)).to(device)\n",
    "    else:\n",
    "        model = BertForSequenceClassification.from_pretrained(\"save_weights/fold_{}/model5\".format(fold)).to(device)\n",
    "    model.eval()\n",
    "    prediction = []\n",
    "    ans = []\n",
    "    batch_id = 0\n",
    "    correct = 0\n",
    "    with torch.no_grad(): \n",
    "        for batch in test_dataloader:\n",
    "            input_ids =  torch.tensor([batch['input_ids']]).to(device)\n",
    "            attention_mask =  torch.tensor([batch['attention_mask']]).to(device)\n",
    "            labels = torch.tensor(batch['labels'])\n",
    "            output = model(\n",
    "                input_ids=input_ids,\n",
    "                attention_mask=attention_mask,\n",
    "            )\n",
    "            #outputs = model(**data)\n",
    "            _,predict_label = torch.max(output.logits,1)\n",
    "            correct += (predict_label==labels.to(device)).sum()\n",
    "            #summary_text = tokenizer.decode(summary_ids[0], skip_special_tokens=True)\n",
    "            #print(summary_text)\n",
    "            prediction.append(predict_label.cpu().item())\n",
    "            ans.append(labels.cpu().item())\n",
    "            batch_id += 1\n",
    "            print('batch:', batch_id, end='\\r')\n",
    "    accuracy = correct.item() / len(test_dataloader)\n",
    "    f1 = f1_score(ans, prediction, average='macro')\n",
    "    conf_m = confusion_matrix(prediction,ans)\n",
    "    return accuracy, f1, conf_m"
   ]
  },
  {
   "cell_type": "code",
   "execution_count": 73,
   "metadata": {},
   "outputs": [
    {
     "name": "stderr",
     "output_type": "stream",
     "text": [
      "0it [00:00, ?it/s]"
     ]
    },
    {
     "name": "stdout",
     "output_type": "stream",
     "text": [
      "Fold 1:\n"
     ]
    },
    {
     "name": "stderr",
     "output_type": "stream",
     "text": [
      "0it [00:01, ?it/s]\n"
     ]
    },
    {
     "ename": "OSError",
     "evalue": "textattack/bert-base-uncased is not a local folder and is not a valid model identifier listed on 'https://huggingface.co/models'\nIf this is a private repository, make sure to pass a token having permission to this repo with `use_auth_token` or log in with `huggingface-cli login` and pass `use_auth_token=True`.",
     "output_type": "error",
     "traceback": [
      "\u001b[1;31m---------------------------------------------------------------------------\u001b[0m",
      "\u001b[1;31mHTTPError\u001b[0m                                 Traceback (most recent call last)",
      "File \u001b[1;32mc:\\Users\\hsu\\anaconda3\\envs\\meta\\lib\\site-packages\\huggingface_hub\\utils\\_errors.py:259\u001b[0m, in \u001b[0;36mhf_raise_for_status\u001b[1;34m(response, endpoint_name)\u001b[0m\n\u001b[0;32m    258\u001b[0m \u001b[39mtry\u001b[39;00m:\n\u001b[1;32m--> 259\u001b[0m     response\u001b[39m.\u001b[39;49mraise_for_status()\n\u001b[0;32m    260\u001b[0m \u001b[39mexcept\u001b[39;00m HTTPError \u001b[39mas\u001b[39;00m e:\n",
      "File \u001b[1;32mc:\\Users\\hsu\\anaconda3\\envs\\meta\\lib\\site-packages\\requests\\models.py:1021\u001b[0m, in \u001b[0;36mResponse.raise_for_status\u001b[1;34m(self)\u001b[0m\n\u001b[0;32m   1020\u001b[0m \u001b[39mif\u001b[39;00m http_error_msg:\n\u001b[1;32m-> 1021\u001b[0m     \u001b[39mraise\u001b[39;00m HTTPError(http_error_msg, response\u001b[39m=\u001b[39m\u001b[39mself\u001b[39m)\n",
      "\u001b[1;31mHTTPError\u001b[0m: 401 Client Error: Unauthorized for url: https://huggingface.co/textattack/bert-base-uncased/resolve/main/config.json",
      "\nThe above exception was the direct cause of the following exception:\n",
      "\u001b[1;31mRepositoryNotFoundError\u001b[0m                   Traceback (most recent call last)",
      "File \u001b[1;32mc:\\Users\\hsu\\anaconda3\\envs\\meta\\lib\\site-packages\\transformers\\utils\\hub.py:417\u001b[0m, in \u001b[0;36mcached_file\u001b[1;34m(path_or_repo_id, filename, cache_dir, force_download, resume_download, proxies, use_auth_token, revision, local_files_only, subfolder, repo_type, user_agent, _raise_exceptions_for_missing_entries, _raise_exceptions_for_connection_errors, _commit_hash)\u001b[0m\n\u001b[0;32m    415\u001b[0m \u001b[39mtry\u001b[39;00m:\n\u001b[0;32m    416\u001b[0m     \u001b[39m# Load from URL or cache if already cached\u001b[39;00m\n\u001b[1;32m--> 417\u001b[0m     resolved_file \u001b[39m=\u001b[39m hf_hub_download(\n\u001b[0;32m    418\u001b[0m         path_or_repo_id,\n\u001b[0;32m    419\u001b[0m         filename,\n\u001b[0;32m    420\u001b[0m         subfolder\u001b[39m=\u001b[39;49m\u001b[39mNone\u001b[39;49;00m \u001b[39mif\u001b[39;49;00m \u001b[39mlen\u001b[39;49m(subfolder) \u001b[39m==\u001b[39;49m \u001b[39m0\u001b[39;49m \u001b[39melse\u001b[39;49;00m subfolder,\n\u001b[0;32m    421\u001b[0m         repo_type\u001b[39m=\u001b[39;49mrepo_type,\n\u001b[0;32m    422\u001b[0m         revision\u001b[39m=\u001b[39;49mrevision,\n\u001b[0;32m    423\u001b[0m         cache_dir\u001b[39m=\u001b[39;49mcache_dir,\n\u001b[0;32m    424\u001b[0m         user_agent\u001b[39m=\u001b[39;49muser_agent,\n\u001b[0;32m    425\u001b[0m         force_download\u001b[39m=\u001b[39;49mforce_download,\n\u001b[0;32m    426\u001b[0m         proxies\u001b[39m=\u001b[39;49mproxies,\n\u001b[0;32m    427\u001b[0m         resume_download\u001b[39m=\u001b[39;49mresume_download,\n\u001b[0;32m    428\u001b[0m         use_auth_token\u001b[39m=\u001b[39;49muse_auth_token,\n\u001b[0;32m    429\u001b[0m         local_files_only\u001b[39m=\u001b[39;49mlocal_files_only,\n\u001b[0;32m    430\u001b[0m     )\n\u001b[0;32m    432\u001b[0m \u001b[39mexcept\u001b[39;00m RepositoryNotFoundError:\n",
      "File \u001b[1;32mc:\\Users\\hsu\\anaconda3\\envs\\meta\\lib\\site-packages\\huggingface_hub\\utils\\_validators.py:120\u001b[0m, in \u001b[0;36mvalidate_hf_hub_args.<locals>._inner_fn\u001b[1;34m(*args, **kwargs)\u001b[0m\n\u001b[0;32m    118\u001b[0m     kwargs \u001b[39m=\u001b[39m smoothly_deprecate_use_auth_token(fn_name\u001b[39m=\u001b[39mfn\u001b[39m.\u001b[39m\u001b[39m__name__\u001b[39m, has_token\u001b[39m=\u001b[39mhas_token, kwargs\u001b[39m=\u001b[39mkwargs)\n\u001b[1;32m--> 120\u001b[0m \u001b[39mreturn\u001b[39;00m fn(\u001b[39m*\u001b[39;49margs, \u001b[39m*\u001b[39;49m\u001b[39m*\u001b[39;49mkwargs)\n",
      "File \u001b[1;32mc:\\Users\\hsu\\anaconda3\\envs\\meta\\lib\\site-packages\\huggingface_hub\\file_download.py:1195\u001b[0m, in \u001b[0;36mhf_hub_download\u001b[1;34m(repo_id, filename, subfolder, repo_type, revision, library_name, library_version, cache_dir, local_dir, local_dir_use_symlinks, user_agent, force_download, force_filename, proxies, etag_timeout, resume_download, token, local_files_only, legacy_cache_layout)\u001b[0m\n\u001b[0;32m   1194\u001b[0m \u001b[39mtry\u001b[39;00m:\n\u001b[1;32m-> 1195\u001b[0m     metadata \u001b[39m=\u001b[39m get_hf_file_metadata(\n\u001b[0;32m   1196\u001b[0m         url\u001b[39m=\u001b[39;49murl,\n\u001b[0;32m   1197\u001b[0m         token\u001b[39m=\u001b[39;49mtoken,\n\u001b[0;32m   1198\u001b[0m         proxies\u001b[39m=\u001b[39;49mproxies,\n\u001b[0;32m   1199\u001b[0m         timeout\u001b[39m=\u001b[39;49metag_timeout,\n\u001b[0;32m   1200\u001b[0m     )\n\u001b[0;32m   1201\u001b[0m \u001b[39mexcept\u001b[39;00m EntryNotFoundError \u001b[39mas\u001b[39;00m http_error:\n\u001b[0;32m   1202\u001b[0m     \u001b[39m# Cache the non-existence of the file and raise\u001b[39;00m\n",
      "File \u001b[1;32mc:\\Users\\hsu\\anaconda3\\envs\\meta\\lib\\site-packages\\huggingface_hub\\utils\\_validators.py:120\u001b[0m, in \u001b[0;36mvalidate_hf_hub_args.<locals>._inner_fn\u001b[1;34m(*args, **kwargs)\u001b[0m\n\u001b[0;32m    118\u001b[0m     kwargs \u001b[39m=\u001b[39m smoothly_deprecate_use_auth_token(fn_name\u001b[39m=\u001b[39mfn\u001b[39m.\u001b[39m\u001b[39m__name__\u001b[39m, has_token\u001b[39m=\u001b[39mhas_token, kwargs\u001b[39m=\u001b[39mkwargs)\n\u001b[1;32m--> 120\u001b[0m \u001b[39mreturn\u001b[39;00m fn(\u001b[39m*\u001b[39;49margs, \u001b[39m*\u001b[39;49m\u001b[39m*\u001b[39;49mkwargs)\n",
      "File \u001b[1;32mc:\\Users\\hsu\\anaconda3\\envs\\meta\\lib\\site-packages\\huggingface_hub\\file_download.py:1541\u001b[0m, in \u001b[0;36mget_hf_file_metadata\u001b[1;34m(url, token, proxies, timeout)\u001b[0m\n\u001b[0;32m   1532\u001b[0m r \u001b[39m=\u001b[39m _request_wrapper(\n\u001b[0;32m   1533\u001b[0m     method\u001b[39m=\u001b[39m\u001b[39m\"\u001b[39m\u001b[39mHEAD\u001b[39m\u001b[39m\"\u001b[39m,\n\u001b[0;32m   1534\u001b[0m     url\u001b[39m=\u001b[39murl,\n\u001b[1;32m   (...)\u001b[0m\n\u001b[0;32m   1539\u001b[0m     timeout\u001b[39m=\u001b[39mtimeout,\n\u001b[0;32m   1540\u001b[0m )\n\u001b[1;32m-> 1541\u001b[0m hf_raise_for_status(r)\n\u001b[0;32m   1543\u001b[0m \u001b[39m# Return\u001b[39;00m\n",
      "File \u001b[1;32mc:\\Users\\hsu\\anaconda3\\envs\\meta\\lib\\site-packages\\huggingface_hub\\utils\\_errors.py:291\u001b[0m, in \u001b[0;36mhf_raise_for_status\u001b[1;34m(response, endpoint_name)\u001b[0m\n\u001b[0;32m    283\u001b[0m     message \u001b[39m=\u001b[39m (\n\u001b[0;32m    284\u001b[0m         \u001b[39mf\u001b[39m\u001b[39m\"\u001b[39m\u001b[39m{\u001b[39;00mresponse\u001b[39m.\u001b[39mstatus_code\u001b[39m}\u001b[39;00m\u001b[39m Client Error.\u001b[39m\u001b[39m\"\u001b[39m\n\u001b[0;32m    285\u001b[0m         \u001b[39m+\u001b[39m \u001b[39m\"\u001b[39m\u001b[39m\\n\u001b[39;00m\u001b[39m\\n\u001b[39;00m\u001b[39m\"\u001b[39m\n\u001b[1;32m   (...)\u001b[0m\n\u001b[0;32m    289\u001b[0m         \u001b[39m\"\u001b[39m\u001b[39m make sure you are authenticated.\u001b[39m\u001b[39m\"\u001b[39m\n\u001b[0;32m    290\u001b[0m     )\n\u001b[1;32m--> 291\u001b[0m     \u001b[39mraise\u001b[39;00m RepositoryNotFoundError(message, response) \u001b[39mfrom\u001b[39;00m \u001b[39me\u001b[39;00m\n\u001b[0;32m    293\u001b[0m \u001b[39melif\u001b[39;00m response\u001b[39m.\u001b[39mstatus_code \u001b[39m==\u001b[39m \u001b[39m400\u001b[39m:\n",
      "\u001b[1;31mRepositoryNotFoundError\u001b[0m: 401 Client Error. (Request ID: Root=1-6500026f-78fa3a387badcbd35253aaa5)\n\nRepository Not Found for url: https://huggingface.co/textattack/bert-base-uncased/resolve/main/config.json.\nPlease make sure you specified the correct `repo_id` and `repo_type`.\nIf you are trying to access a private or gated repo, make sure you are authenticated.\nInvalid username or password.",
      "\nDuring handling of the above exception, another exception occurred:\n",
      "\u001b[1;31mOSError\u001b[0m                                   Traceback (most recent call last)",
      "Cell \u001b[1;32mIn[73], line 22\u001b[0m\n\u001b[0;32m     19\u001b[0m val_dataloader \u001b[39m=\u001b[39m DataLoader(train_set[\u001b[39m'\u001b[39m\u001b[39mtest\u001b[39m\u001b[39m'\u001b[39m], batch_size\u001b[39m=\u001b[39m\u001b[39m1\u001b[39m, shuffle\u001b[39m=\u001b[39m\u001b[39mFalse\u001b[39;00m)\n\u001b[0;32m     20\u001b[0m test_dataloader \u001b[39m=\u001b[39m DataLoader(test_set, batch_size\u001b[39m=\u001b[39m\u001b[39m1\u001b[39m, shuffle\u001b[39m=\u001b[39m\u001b[39mFalse\u001b[39;00m)\n\u001b[1;32m---> 22\u001b[0m training(train_dataloader, val_dataloader,i\u001b[39m+\u001b[39;49m\u001b[39m1\u001b[39;49m, val_monitor \u001b[39m=\u001b[39;49m \u001b[39m'\u001b[39;49m\u001b[39maccuracy\u001b[39;49m\u001b[39m'\u001b[39;49m)\n\u001b[0;32m     24\u001b[0m accuracy, f1, confusion_m \u001b[39m=\u001b[39m testing(test_dataloader,i\u001b[39m+\u001b[39m\u001b[39m1\u001b[39m)\n\u001b[0;32m     25\u001b[0m test_accuracy\u001b[39m.\u001b[39mappend(accuracy)\n",
      "Cell \u001b[1;32mIn[71], line 2\u001b[0m, in \u001b[0;36mtraining\u001b[1;34m(train_dataloader, val_dataloader, fold, num_epochs, validation, val_monitor)\u001b[0m\n\u001b[0;32m      1\u001b[0m \u001b[39mdef\u001b[39;00m \u001b[39mtraining\u001b[39m(train_dataloader, val_dataloader,fold, num_epochs \u001b[39m=\u001b[39m \u001b[39m10\u001b[39m, validation \u001b[39m=\u001b[39m \u001b[39mTrue\u001b[39;00m, val_monitor \u001b[39m=\u001b[39m \u001b[39m'\u001b[39m\u001b[39mloss\u001b[39m\u001b[39m'\u001b[39m):\n\u001b[1;32m----> 2\u001b[0m     model \u001b[39m=\u001b[39m BertForSequenceClassification\u001b[39m.\u001b[39;49mfrom_pretrained(\u001b[39m\"\u001b[39;49m\u001b[39mtextattack/bert-base-uncased\u001b[39;49m\u001b[39m\"\u001b[39;49m)\u001b[39m.\u001b[39mto(device)\n\u001b[0;32m      3\u001b[0m     accelerator \u001b[39m=\u001b[39m Accelerator()\n\u001b[0;32m      4\u001b[0m     model  \u001b[39m=\u001b[39m accelerator\u001b[39m.\u001b[39mprepare(model)\n",
      "File \u001b[1;32mc:\\Users\\hsu\\anaconda3\\envs\\meta\\lib\\site-packages\\transformers\\modeling_utils.py:2251\u001b[0m, in \u001b[0;36mPreTrainedModel.from_pretrained\u001b[1;34m(cls, pretrained_model_name_or_path, *model_args, **kwargs)\u001b[0m\n\u001b[0;32m   2249\u001b[0m \u001b[39mif\u001b[39;00m \u001b[39mnot\u001b[39;00m \u001b[39misinstance\u001b[39m(config, PretrainedConfig):\n\u001b[0;32m   2250\u001b[0m     config_path \u001b[39m=\u001b[39m config \u001b[39mif\u001b[39;00m config \u001b[39mis\u001b[39;00m \u001b[39mnot\u001b[39;00m \u001b[39mNone\u001b[39;00m \u001b[39melse\u001b[39;00m pretrained_model_name_or_path\n\u001b[1;32m-> 2251\u001b[0m     config, model_kwargs \u001b[39m=\u001b[39m \u001b[39mcls\u001b[39;49m\u001b[39m.\u001b[39;49mconfig_class\u001b[39m.\u001b[39;49mfrom_pretrained(\n\u001b[0;32m   2252\u001b[0m         config_path,\n\u001b[0;32m   2253\u001b[0m         cache_dir\u001b[39m=\u001b[39;49mcache_dir,\n\u001b[0;32m   2254\u001b[0m         return_unused_kwargs\u001b[39m=\u001b[39;49m\u001b[39mTrue\u001b[39;49;00m,\n\u001b[0;32m   2255\u001b[0m         force_download\u001b[39m=\u001b[39;49mforce_download,\n\u001b[0;32m   2256\u001b[0m         resume_download\u001b[39m=\u001b[39;49mresume_download,\n\u001b[0;32m   2257\u001b[0m         proxies\u001b[39m=\u001b[39;49mproxies,\n\u001b[0;32m   2258\u001b[0m         local_files_only\u001b[39m=\u001b[39;49mlocal_files_only,\n\u001b[0;32m   2259\u001b[0m         use_auth_token\u001b[39m=\u001b[39;49muse_auth_token,\n\u001b[0;32m   2260\u001b[0m         revision\u001b[39m=\u001b[39;49mrevision,\n\u001b[0;32m   2261\u001b[0m         subfolder\u001b[39m=\u001b[39;49msubfolder,\n\u001b[0;32m   2262\u001b[0m         _from_auto\u001b[39m=\u001b[39;49mfrom_auto_class,\n\u001b[0;32m   2263\u001b[0m         _from_pipeline\u001b[39m=\u001b[39;49mfrom_pipeline,\n\u001b[0;32m   2264\u001b[0m         \u001b[39m*\u001b[39;49m\u001b[39m*\u001b[39;49mkwargs,\n\u001b[0;32m   2265\u001b[0m     )\n\u001b[0;32m   2266\u001b[0m \u001b[39melse\u001b[39;00m:\n\u001b[0;32m   2267\u001b[0m     model_kwargs \u001b[39m=\u001b[39m kwargs\n",
      "File \u001b[1;32mc:\\Users\\hsu\\anaconda3\\envs\\meta\\lib\\site-packages\\transformers\\configuration_utils.py:547\u001b[0m, in \u001b[0;36mPretrainedConfig.from_pretrained\u001b[1;34m(cls, pretrained_model_name_or_path, **kwargs)\u001b[0m\n\u001b[0;32m    469\u001b[0m \u001b[39m@classmethod\u001b[39m\n\u001b[0;32m    470\u001b[0m \u001b[39mdef\u001b[39;00m \u001b[39mfrom_pretrained\u001b[39m(\u001b[39mcls\u001b[39m, pretrained_model_name_or_path: Union[\u001b[39mstr\u001b[39m, os\u001b[39m.\u001b[39mPathLike], \u001b[39m*\u001b[39m\u001b[39m*\u001b[39mkwargs) \u001b[39m-\u001b[39m\u001b[39m>\u001b[39m \u001b[39m\"\u001b[39m\u001b[39mPretrainedConfig\u001b[39m\u001b[39m\"\u001b[39m:\n\u001b[0;32m    471\u001b[0m     \u001b[39mr\u001b[39m\u001b[39m\"\"\"\u001b[39;00m\n\u001b[0;32m    472\u001b[0m \u001b[39m    Instantiate a [`PretrainedConfig`] (or a derived class) from a pretrained model configuration.\u001b[39;00m\n\u001b[0;32m    473\u001b[0m \n\u001b[1;32m   (...)\u001b[0m\n\u001b[0;32m    545\u001b[0m \u001b[39m    assert unused_kwargs == {\"foo\": False}\u001b[39;00m\n\u001b[0;32m    546\u001b[0m \u001b[39m    ```\"\"\"\u001b[39;00m\n\u001b[1;32m--> 547\u001b[0m     config_dict, kwargs \u001b[39m=\u001b[39m \u001b[39mcls\u001b[39;49m\u001b[39m.\u001b[39;49mget_config_dict(pretrained_model_name_or_path, \u001b[39m*\u001b[39;49m\u001b[39m*\u001b[39;49mkwargs)\n\u001b[0;32m    548\u001b[0m     \u001b[39mif\u001b[39;00m \u001b[39m\"\u001b[39m\u001b[39mmodel_type\u001b[39m\u001b[39m\"\u001b[39m \u001b[39min\u001b[39;00m config_dict \u001b[39mand\u001b[39;00m \u001b[39mhasattr\u001b[39m(\u001b[39mcls\u001b[39m, \u001b[39m\"\u001b[39m\u001b[39mmodel_type\u001b[39m\u001b[39m\"\u001b[39m) \u001b[39mand\u001b[39;00m config_dict[\u001b[39m\"\u001b[39m\u001b[39mmodel_type\u001b[39m\u001b[39m\"\u001b[39m] \u001b[39m!=\u001b[39m \u001b[39mcls\u001b[39m\u001b[39m.\u001b[39mmodel_type:\n\u001b[0;32m    549\u001b[0m         logger\u001b[39m.\u001b[39mwarning(\n\u001b[0;32m    550\u001b[0m             \u001b[39mf\u001b[39m\u001b[39m\"\u001b[39m\u001b[39mYou are using a model of type \u001b[39m\u001b[39m{\u001b[39;00mconfig_dict[\u001b[39m'\u001b[39m\u001b[39mmodel_type\u001b[39m\u001b[39m'\u001b[39m]\u001b[39m}\u001b[39;00m\u001b[39m to instantiate a model of type \u001b[39m\u001b[39m\"\u001b[39m\n\u001b[0;32m    551\u001b[0m             \u001b[39mf\u001b[39m\u001b[39m\"\u001b[39m\u001b[39m{\u001b[39;00m\u001b[39mcls\u001b[39m\u001b[39m.\u001b[39mmodel_type\u001b[39m}\u001b[39;00m\u001b[39m. This is not supported for all configurations of models and can yield errors.\u001b[39m\u001b[39m\"\u001b[39m\n\u001b[0;32m    552\u001b[0m         )\n",
      "File \u001b[1;32mc:\\Users\\hsu\\anaconda3\\envs\\meta\\lib\\site-packages\\transformers\\configuration_utils.py:574\u001b[0m, in \u001b[0;36mPretrainedConfig.get_config_dict\u001b[1;34m(cls, pretrained_model_name_or_path, **kwargs)\u001b[0m\n\u001b[0;32m    572\u001b[0m original_kwargs \u001b[39m=\u001b[39m copy\u001b[39m.\u001b[39mdeepcopy(kwargs)\n\u001b[0;32m    573\u001b[0m \u001b[39m# Get config dict associated with the base config file\u001b[39;00m\n\u001b[1;32m--> 574\u001b[0m config_dict, kwargs \u001b[39m=\u001b[39m \u001b[39mcls\u001b[39;49m\u001b[39m.\u001b[39;49m_get_config_dict(pretrained_model_name_or_path, \u001b[39m*\u001b[39;49m\u001b[39m*\u001b[39;49mkwargs)\n\u001b[0;32m    575\u001b[0m \u001b[39mif\u001b[39;00m \u001b[39m\"\u001b[39m\u001b[39m_commit_hash\u001b[39m\u001b[39m\"\u001b[39m \u001b[39min\u001b[39;00m config_dict:\n\u001b[0;32m    576\u001b[0m     original_kwargs[\u001b[39m\"\u001b[39m\u001b[39m_commit_hash\u001b[39m\u001b[39m\"\u001b[39m] \u001b[39m=\u001b[39m config_dict[\u001b[39m\"\u001b[39m\u001b[39m_commit_hash\u001b[39m\u001b[39m\"\u001b[39m]\n",
      "File \u001b[1;32mc:\\Users\\hsu\\anaconda3\\envs\\meta\\lib\\site-packages\\transformers\\configuration_utils.py:629\u001b[0m, in \u001b[0;36mPretrainedConfig._get_config_dict\u001b[1;34m(cls, pretrained_model_name_or_path, **kwargs)\u001b[0m\n\u001b[0;32m    625\u001b[0m configuration_file \u001b[39m=\u001b[39m kwargs\u001b[39m.\u001b[39mpop(\u001b[39m\"\u001b[39m\u001b[39m_configuration_file\u001b[39m\u001b[39m\"\u001b[39m, CONFIG_NAME)\n\u001b[0;32m    627\u001b[0m \u001b[39mtry\u001b[39;00m:\n\u001b[0;32m    628\u001b[0m     \u001b[39m# Load from local folder or from cache or download from model Hub and cache\u001b[39;00m\n\u001b[1;32m--> 629\u001b[0m     resolved_config_file \u001b[39m=\u001b[39m cached_file(\n\u001b[0;32m    630\u001b[0m         pretrained_model_name_or_path,\n\u001b[0;32m    631\u001b[0m         configuration_file,\n\u001b[0;32m    632\u001b[0m         cache_dir\u001b[39m=\u001b[39;49mcache_dir,\n\u001b[0;32m    633\u001b[0m         force_download\u001b[39m=\u001b[39;49mforce_download,\n\u001b[0;32m    634\u001b[0m         proxies\u001b[39m=\u001b[39;49mproxies,\n\u001b[0;32m    635\u001b[0m         resume_download\u001b[39m=\u001b[39;49mresume_download,\n\u001b[0;32m    636\u001b[0m         local_files_only\u001b[39m=\u001b[39;49mlocal_files_only,\n\u001b[0;32m    637\u001b[0m         use_auth_token\u001b[39m=\u001b[39;49muse_auth_token,\n\u001b[0;32m    638\u001b[0m         user_agent\u001b[39m=\u001b[39;49muser_agent,\n\u001b[0;32m    639\u001b[0m         revision\u001b[39m=\u001b[39;49mrevision,\n\u001b[0;32m    640\u001b[0m         subfolder\u001b[39m=\u001b[39;49msubfolder,\n\u001b[0;32m    641\u001b[0m         _commit_hash\u001b[39m=\u001b[39;49mcommit_hash,\n\u001b[0;32m    642\u001b[0m     )\n\u001b[0;32m    643\u001b[0m     commit_hash \u001b[39m=\u001b[39m extract_commit_hash(resolved_config_file, commit_hash)\n\u001b[0;32m    644\u001b[0m \u001b[39mexcept\u001b[39;00m \u001b[39mEnvironmentError\u001b[39;00m:\n\u001b[0;32m    645\u001b[0m     \u001b[39m# Raise any environment error raise by `cached_file`. It will have a helpful error message adapted to\u001b[39;00m\n\u001b[0;32m    646\u001b[0m     \u001b[39m# the original exception.\u001b[39;00m\n",
      "File \u001b[1;32mc:\\Users\\hsu\\anaconda3\\envs\\meta\\lib\\site-packages\\transformers\\utils\\hub.py:433\u001b[0m, in \u001b[0;36mcached_file\u001b[1;34m(path_or_repo_id, filename, cache_dir, force_download, resume_download, proxies, use_auth_token, revision, local_files_only, subfolder, repo_type, user_agent, _raise_exceptions_for_missing_entries, _raise_exceptions_for_connection_errors, _commit_hash)\u001b[0m\n\u001b[0;32m    417\u001b[0m     resolved_file \u001b[39m=\u001b[39m hf_hub_download(\n\u001b[0;32m    418\u001b[0m         path_or_repo_id,\n\u001b[0;32m    419\u001b[0m         filename,\n\u001b[1;32m   (...)\u001b[0m\n\u001b[0;32m    429\u001b[0m         local_files_only\u001b[39m=\u001b[39mlocal_files_only,\n\u001b[0;32m    430\u001b[0m     )\n\u001b[0;32m    432\u001b[0m \u001b[39mexcept\u001b[39;00m RepositoryNotFoundError:\n\u001b[1;32m--> 433\u001b[0m     \u001b[39mraise\u001b[39;00m \u001b[39mEnvironmentError\u001b[39;00m(\n\u001b[0;32m    434\u001b[0m         \u001b[39mf\u001b[39m\u001b[39m\"\u001b[39m\u001b[39m{\u001b[39;00mpath_or_repo_id\u001b[39m}\u001b[39;00m\u001b[39m is not a local folder and is not a valid model identifier \u001b[39m\u001b[39m\"\u001b[39m\n\u001b[0;32m    435\u001b[0m         \u001b[39m\"\u001b[39m\u001b[39mlisted on \u001b[39m\u001b[39m'\u001b[39m\u001b[39mhttps://huggingface.co/models\u001b[39m\u001b[39m'\u001b[39m\u001b[39m\\n\u001b[39;00m\u001b[39mIf this is a private repository, make sure to \u001b[39m\u001b[39m\"\u001b[39m\n\u001b[0;32m    436\u001b[0m         \u001b[39m\"\u001b[39m\u001b[39mpass a token having permission to this repo with `use_auth_token` or log in with \u001b[39m\u001b[39m\"\u001b[39m\n\u001b[0;32m    437\u001b[0m         \u001b[39m\"\u001b[39m\u001b[39m`huggingface-cli login` and pass `use_auth_token=True`.\u001b[39m\u001b[39m\"\u001b[39m\n\u001b[0;32m    438\u001b[0m     )\n\u001b[0;32m    439\u001b[0m \u001b[39mexcept\u001b[39;00m RevisionNotFoundError:\n\u001b[0;32m    440\u001b[0m     \u001b[39mraise\u001b[39;00m \u001b[39mEnvironmentError\u001b[39;00m(\n\u001b[0;32m    441\u001b[0m         \u001b[39mf\u001b[39m\u001b[39m\"\u001b[39m\u001b[39m{\u001b[39;00mrevision\u001b[39m}\u001b[39;00m\u001b[39m is not a valid git identifier (branch name, tag name or commit id) that exists \u001b[39m\u001b[39m\"\u001b[39m\n\u001b[0;32m    442\u001b[0m         \u001b[39m\"\u001b[39m\u001b[39mfor this model name. Check the model page at \u001b[39m\u001b[39m\"\u001b[39m\n\u001b[0;32m    443\u001b[0m         \u001b[39mf\u001b[39m\u001b[39m\"\u001b[39m\u001b[39m'\u001b[39m\u001b[39mhttps://huggingface.co/\u001b[39m\u001b[39m{\u001b[39;00mpath_or_repo_id\u001b[39m}\u001b[39;00m\u001b[39m'\u001b[39m\u001b[39m for available revisions.\u001b[39m\u001b[39m\"\u001b[39m\n\u001b[0;32m    444\u001b[0m     )\n",
      "\u001b[1;31mOSError\u001b[0m: textattack/bert-base-uncased is not a local folder and is not a valid model identifier listed on 'https://huggingface.co/models'\nIf this is a private repository, make sure to pass a token having permission to this repo with `use_auth_token` or log in with `huggingface-cli login` and pass `use_auth_token=True`."
     ]
    }
   ],
   "source": [
    "test_accuracy = []\n",
    "conf_m = []\n",
    "#test_order_a = []\n",
    "#pred_order_a = []\n",
    "confusion_matrixs = []\n",
    "test_macro_f1 = []\n",
    "\n",
    "for i, (train, test) in tqdm(enumerate(kfold.split(dataset_pt['train']))):\n",
    "    print('Fold {}:'.format(i+1))\n",
    "    train_set = dataset_pt['train'][train]\n",
    "    train_set = Dataset.from_dict(train_set)\n",
    "    train_set = train_set.train_test_split(test_size=0.1)\n",
    "    \n",
    "    test_set = dataset_pt['train'][test]\n",
    "    test_set = Dataset.from_dict(test_set)\n",
    "    \n",
    "    sampler = WeightedRandomSampler(train_set['train']['v_weight'], len(train_set['train']['v_weight']))\n",
    "    train_dataloader = DataLoader(train_set['train'], batch_size=1, shuffle=False, sampler = sampler)\n",
    "    val_dataloader = DataLoader(train_set['test'], batch_size=1, shuffle=False)\n",
    "    test_dataloader = DataLoader(test_set, batch_size=1, shuffle=False)\n",
    "    \n",
    "    training(train_dataloader, val_dataloader,i+1, val_monitor = 'accuracy')\n",
    "    \n",
    "    accuracy, f1, confusion_m = testing(test_dataloader,i+1)\n",
    "    test_accuracy.append(accuracy)\n",
    "    test_macro_f1.append(f1)\n",
    "    confusion_matrixs.append(confusion_m)"
   ]
  },
  {
   "cell_type": "code",
   "execution_count": 70,
   "metadata": {},
   "outputs": [
    {
     "name": "stdout",
     "output_type": "stream",
     "text": [
      "Fold 1:\n",
      "accuracy: 0.675834084761046\n",
      "Confusion Matrix:\n",
      "[[1299  387]\n",
      " [ 332  200]]\n",
      "macro F1 score : 0.5703499426007813\n",
      "Fold 2:\n",
      "accuracy: 0.6803426510369702\n",
      "Confusion Matrix:\n",
      "[[1318  395]\n",
      " [ 314  191]]\n",
      "macro F1 score : 0.5690896710276635\n",
      "Fold 3:\n",
      "accuracy: 0.6744815148782687\n",
      "Confusion Matrix:\n",
      "[[1307  432]\n",
      " [ 290  189]]\n",
      "macro F1 score : 0.5636047525615872\n",
      "Fold 4:\n",
      "accuracy: 0.6860622462787551\n",
      "Confusion Matrix:\n",
      "[[1341  412]\n",
      " [ 284  180]]\n",
      "macro F1 score : 0.5674350072662684\n",
      "Fold 5:\n",
      "accuracy: 0.6544880469102391\n",
      "Confusion Matrix:\n",
      "[[1270  398]\n",
      " [ 368  181]]\n",
      "macro F1 score : 0.5446110231558353\n",
      "Total Confusion Matrix:\n",
      " [[6535 2024]\n",
      " [1588  941]]\n",
      "Avg accuracy: 0.6742417087730559\n",
      "Avg macro f1 score: 0.5630180793224271\n"
     ]
    }
   ],
   "source": [
    "total_conf = confusion_matrixs[0]*0\n",
    "for i in range(0,len(test_accuracy)):\n",
    "    print(\"Fold {}:\".format(i+1))\n",
    "    print(\"accuracy:\", test_accuracy[i])\n",
    "    print(\"Confusion Matrix:\")\n",
    "    print(confusion_matrixs[i])\n",
    "    total_conf += confusion_matrixs[i]\n",
    "    print('macro F1 score :', test_macro_f1[i])\n",
    "print(\"Total Confusion Matrix:\\n\",total_conf)\n",
    "print(\"Avg accuracy:\",np.array(test_accuracy).mean())\n",
    "print(\"Avg macro f1 score:\",np.array(test_macro_f1).mean())"
   ]
  },
  {
   "cell_type": "code",
   "execution_count": null,
   "metadata": {},
   "outputs": [
    {
     "name": "stderr",
     "output_type": "stream",
     "text": [
      "100%|██████████| 2218/2218 [00:34<00:00, 63.87it/s]\n"
     ]
    },
    {
     "name": "stdout",
     "output_type": "stream",
     "text": [
      "accuracy: 0.678990081154193\n",
      "f1 score: 0.5587007064294017\n",
      "confusion matrix:\n",
      " [[1332  386]\n",
      " [ 326  174]]\n"
     ]
    }
   ],
   "source": [
    "model = BertForSequenceClassification.from_pretrained(\"save_weights/model5\").to(device)\n",
    "model.eval()\n",
    "prediction = []\n",
    "ans = []\n",
    "#batch_id = 0\n",
    "correct = 0\n",
    "with torch.no_grad(): \n",
    "    for batch in tqdm(val_dataloader):\n",
    "        input_ids =  batch['input_ids'].to(device)\n",
    "        attention_mask =  batch['attention_mask'].to(device)\n",
    "        output = model(\n",
    "            input_ids=input_ids,\n",
    "            attention_mask=attention_mask,\n",
    "        )\n",
    "        #outputs = model(**data)\n",
    "        _,predict_label = torch.max(output.logits,1)\n",
    "        correct += (predict_label==batch['labels'].to(device)).sum()\n",
    "        #summary_text = tokenizer.decode(summary_ids[0], skip_special_tokens=True)\n",
    "        #print(summary_text)\n",
    "        prediction.append(predict_label.cpu().item())\n",
    "        ans.append(batch['labels'].cpu().item())\n",
    "        #batch_id += 1\n",
    "        #print('batch:', batch_id)\n",
    "print('accuracy:',correct.item() / len(val_dataloader))\n",
    "print('f1 score:', f1_score(ans, prediction, average='macro'))\n",
    "print('confusion matrix:\\n', confusion_matrix(prediction,ans)) #[[tp,fp],[fn,tn]]"
   ]
  }
 ],
 "metadata": {
  "kernelspec": {
   "display_name": "meta",
   "language": "python",
   "name": "python3"
  },
  "language_info": {
   "codemirror_mode": {
    "name": "ipython",
    "version": 3
   },
   "file_extension": ".py",
   "mimetype": "text/x-python",
   "name": "python",
   "nbconvert_exporter": "python",
   "pygments_lexer": "ipython3",
   "version": "3.8.16"
  },
  "orig_nbformat": 4
 },
 "nbformat": 4,
 "nbformat_minor": 2
}
